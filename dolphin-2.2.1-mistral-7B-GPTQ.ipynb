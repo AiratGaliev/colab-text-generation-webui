{
  "cells": [
    {
      "cell_type": "markdown",
      "metadata": {
        "id": "view-in-github",
        "colab_type": "text"
      },
      "source": [
        "<a href=\"https://colab.research.google.com/github/AiratGaliev/text_generation_webui/blob/main/text_generation_webui.ipynb\" target=\"_parent\"><img src=\"https://colab.research.google.com/assets/colab-badge.svg\" alt=\"Open In Colab\"/></a>"
      ]
    },
    {
      "cell_type": "code",
      "execution_count": 1,
      "metadata": {
        "colab": {
          "base_uri": "https://localhost:8080/"
        },
        "id": "DC4zIEuXlTqg",
        "outputId": "bea6ab6d-53cc-4306-d0df-6f685766a785"
      },
      "outputs":[],
      "source": [
        "#@title Launch the web UI\n",
        "\n",
        "#@markdown If unsure about the branch, write \"main\" or leave it blank.\n",
        "\n",
        "%cd /content\n",
        "!apt-get -y install -qq aria2\n",
        "!git clone https://github.com/oobabooga/text-generation-webui.git\n",
        "\n",
        "# Parameters\n",
        "model_url = \"TheBloke/dolphin-2.2.1-mistral-7B-GPTQ\" #@param {type:\"string\"}\n",
        "branch = \"gptq-4bit-32g-actorder_True\" #@param {type:\"string\"}\n",
        "command_line_flags = \"--use_fast --max_seq_len 10240\" #@param {type:\"string\"}\n",
        "api = True #@param {type:\"boolean\"}\n",
        "model_folder = \"dolphin-2.2.1-mistral-7B-GPTQ\" #@param {type:\"string\"}\n",
        "\n",
        "model_url = model_url.strip()\n",
        "if model_url != \"\":\n",
        "    if not model_url.startswith('http'):\n",
        "        model_url = 'https://huggingface.co/' + model_url\n",
        "\n",
        "branch = branch.strip()\n",
        "if branch == \"\":\n",
        "  branch = \"main\"\n",
        "\n",
        "model_folder = f\"/content/text-generation-webui/models/{model_folder}\"\n",
        "\n",
        "if api:\n",
        "  for param in ['--api','--public-api','--listen']:\n",
        "    if param not in command_line_flags:\n",
        "      command_line_flags += f\" {param}\"\n",
        "\n",
        "# Download the model\n",
        "files_to_download = [\n",
        "    \"README.md\",\n",
        "    \"added_tokens.json\",\n",
        "    \"config.json\",\n",
        "    \"generation_config.json\",\n",
        "    \"model.safetensors\",\n",
        "    \"quantize_config.json\",\n",
        "    \"special_tokens_map.json\",\n",
        "    \"tokenizer.model\",\n",
        "    \"tokenizer_config.json\",\n",
        "    \"zero_to_fp32.py\"\n",
        "]\n",
        "\n",
        "model_url += f\"/resolve/{branch}/\"\n",
        "for file in files_to_download:\n",
        "    download_cmd = f\"aria2c --console-log-level=error -c -x 16 -s 16 -k 1M {model_url}{file} -d {model_folder} -o {file}\"\n",
        "    print(download_cmd)\n",
        "    !$download_cmd\n",
        "\n",
        "# Start the web UI\n",
        "%cd /content/text-generation-webui\n",
        "cmd = f\"/bin/bash start_linux.sh --share\"\n",
        "if model_folder != \"\":\n",
        "    cmd += f\" --model {model_folder}\"\n",
        "cmd += f\" {command_line_flags}\"\n",
        "print(cmd)\n",
        "!$cmd"
      ]
    }
  ],
  "metadata": {
    "colab": {
      "provenance": [],
      "authorship_tag": "ABX9TyMd/BbIoY7Mr2J+rD54WhFv",
      "include_colab_link": true
    },
    "kernelspec": {
      "display_name": "Python 3",
      "name": "python3"
    },
    "language_info": {
      "name": "python"
    }
  },
  "nbformat": 4,
  "nbformat_minor": 0
}
